{
  "nbformat": 4,
  "nbformat_minor": 0,
  "metadata": {
    "colab": {
      "provenance": []
    },
    "kernelspec": {
      "name": "python3",
      "display_name": "Python 3"
    },
    "language_info": {
      "name": "python"
    }
  },
  "cells": [
    {
      "cell_type": "markdown",
      "source": [
        "Question 1\n",
        "Consider the following Python module:\n",
        "a = 0\n",
        "def b():\n",
        " global a\n",
        " a = c(a)\n",
        "def c(a):\n",
        " return a + 2\n",
        "After importing the module into the interpreter, you execute:\n",
        ">>> b()\n",
        ">>> b()\n",
        ">>> b()\n",
        ">>> a\n",
        "?\n",
        "What value is displayed when the last expression (a) is evaluated? Explain your\n",
        "answer by indicating what happens in every executed statement."
      ],
      "metadata": {
        "id": "lVH1hXZDwXeS"
      }
    },
    {
      "cell_type": "code",
      "execution_count": null,
      "metadata": {
        "id": "nyDbjbUpwWc6"
      },
      "outputs": [],
      "source": [
        "a = 10\n",
        "\n",
        "def b():\n",
        "  global a\n",
        "  a = c(a)\n",
        "\n",
        "def c(a):\n",
        "  return a + 2"
      ]
    },
    {
      "cell_type": "code",
      "source": [
        "b()\n",
        "b()\n",
        "b()\n",
        "a"
      ],
      "metadata": {
        "colab": {
          "base_uri": "https://localhost:8080/"
        },
        "id": "gjYEWpqwyQx5",
        "outputId": "1958b3f3-97b2-468d-f075-1ca3be0325fb"
      },
      "execution_count": null,
      "outputs": [
        {
          "output_type": "execute_result",
          "data": {
            "text/plain": [
              "16"
            ]
          },
          "metadata": {},
          "execution_count": 29
        }
      ]
    },
    {
      "cell_type": "markdown",
      "source": [
        "Before we first time call funtion b(), the orginal value of a is 10 and also in the function b() variable is defined as global so the value of a in function c(a) will be remain same as it is updated previously. \n",
        "\n",
        "But after first time calling b(), function b() will call function c(a) and it will change the value of a from 10 to 12 as function c(a) increases the value a by 2. \n",
        "\n",
        "Again when the function b() is called second time, same process will happen and the value of a will change from 12 to 14 by function c(a). \n",
        "\n",
        "At the last and third time we call function b(), same process happens and the value of a will change from 14 to 16 by function c(a). \n",
        "\n",
        "At the end, when we display the value of a, it shows 16."
      ],
      "metadata": {
        "id": "dFD-Px8TysWZ"
      }
    },
    {
      "cell_type": "markdown",
      "source": [
        "Question 2\n",
        "Function fileLength(), given to you, takes the name of a file as input and returns\n",
        "the length of the file:\n",
        ">>> fileLength('midterm.py')\n",
        "284\n",
        ">>> fileLength('idterm.py')\n",
        "Traceback (most recent call last):\n",
        "File \"<pyshell#34>\", line 1, in <module>\n",
        " fileLength('idterm.py')\n",
        "File \"/Users/me/midterm.py\", line 3, in fileLength\n",
        " infile = open(filename)\n",
        "FileNotFoundError: [Errno 2] No such file or directory:\n",
        "'idterm.py'\n",
        "As shown above, if the file cannot be found by the interpreter or if it cannot be read\n",
        "as a text file, an exception will be raised. Modify function fileLength() so that a\n",
        "friendly message is printed instead:\n",
        ">>> fileLength('midterm.py')\n",
        "358\n",
        ">>> fileLength('idterm.py')\n",
        "File idterm.py not found.\n"
      ],
      "metadata": {
        "id": "ZX0gmyGiwlRE"
      }
    },
    {
      "cell_type": "code",
      "execution_count": null,
      "metadata": {
        "id": "1c1a0621"
      },
      "outputs": [],
      "source": [
        "#Defining function file_length \n",
        "def file_length(file_name):\n",
        "    try:\n",
        "        file = open(file_name)\n",
        "        contents = file.read()\n",
        "        file.close()\n",
        "        print(len(contents))\n",
        "    except:\n",
        "        print(\"File \"+file_name+\" not found.\")"
      ]
    },
    {
      "cell_type": "code",
      "execution_count": null,
      "metadata": {
        "scrolled": true,
        "id": "29c4cd73",
        "outputId": "eea7cf5d-c811-4206-df33-0f294cb8874a",
        "colab": {
          "base_uri": "https://localhost:8080/"
        }
      },
      "outputs": [
        {
          "output_type": "stream",
          "name": "stdout",
          "text": [
            "123\n"
          ]
        }
      ],
      "source": [
        "file_length('/content/sample_data/Filelength.txt')"
      ]
    },
    {
      "cell_type": "markdown",
      "source": [
        "Question 3\n",
        "Write a class named Marsupial that can be used as shown below:\n",
        ">>> m = Marsupial()\n",
        ">>> m.put_in_pouch('doll')\n",
        ">>> m.put_in_pouch('firetruck')\n",
        ">>> m.put_in_pouch('kitten')\n",
        ">>> m.pouch_contents()\n",
        "['doll', 'firetruck', 'kitten']\n",
        "\n",
        "Now write a class named Kangaroo as a subclass of Marsupial that inherits all the\n",
        "attributes of Marsupial and also:\n",
        "a. extends the Marsupial __init__ constructor to take, as input, the\n",
        "coordinates x and y of the Kangaroo object,\n",
        "b. supports method jump that takes number values dx and dy as input and\n",
        "moves the kangaroo by dx units along the x-axis and by dy units along the yaxis, and\n",
        "c. overloads the __str__ operator so it behaves as shown below.\n",
        ">>> k = Kangaroo(0,0)\n",
        ">>> print(k)\n",
        "I am a Kangaroo located at coordinates (0,0)\n",
        ">>> k.put_in_pouch('doll')\n",
        ">>> k.put_in_pouch('firetruck')\n",
        ">>> k.put_in_pouch('kitten')\n",
        ">>> k.pouch_contents()\n",
        "['doll', 'firetruck', 'kitten']\n",
        ">>> k.jump(1,0)\n",
        ">>> k.jump(1,0)\n",
        ">>> k.jump(1,0)\n",
        ">>> print(k)\n",
        "I am a Kangaroo located at coordinates (3,0)"
      ],
      "metadata": {
        "id": "MdtHUdsUwkwB"
      }
    },
    {
      "cell_type": "code",
      "source": [
        "#Defining Parent class Marsupial\n",
        "class Marsupial():\n",
        "  \n",
        "  list = []\n",
        "  def __init__(self):\n",
        "    self = []\n",
        "\n",
        "  #Defining function put strings in pouch\n",
        "  def put_in_pouch(self, str):\n",
        "    if str not in self.list:\n",
        "      self.list.append(str)\n",
        "\n",
        "  #Defining function to print list\n",
        "  def pouch_contents(self):\n",
        "    print(self.list)"
      ],
      "metadata": {
        "id": "OEgx6f9i4kXY"
      },
      "execution_count": null,
      "outputs": []
    },
    {
      "cell_type": "code",
      "source": [
        "m = Marsupial()\n",
        "m.put_in_pouch('doll')\n",
        "m.put_in_pouch('firetruck')\n",
        "m.put_in_pouch('kitten')\n",
        "m.pouch_contents()"
      ],
      "metadata": {
        "colab": {
          "base_uri": "https://localhost:8080/"
        },
        "id": "JXKQXeD45tlL",
        "outputId": "1560fb18-cbe9-4fba-918a-e835cae87d50"
      },
      "execution_count": null,
      "outputs": [
        {
          "output_type": "stream",
          "name": "stdout",
          "text": [
            "['doll', 'firetruck', 'kitten']\n"
          ]
        }
      ]
    },
    {
      "cell_type": "code",
      "execution_count": null,
      "metadata": {
        "id": "6cc7dc0a"
      },
      "outputs": [],
      "source": [
        "#Defining child class Kangaroo which inherits Parent class Marsupial\n",
        "class  Kangaroo(Marsupial):\n",
        "    def __init__(self, x1=0, y1=0):\n",
        "        self.x= x1\n",
        "        self.y= y1\n",
        "\n",
        "    #Defining sunction to set value of x and y    \n",
        "    def setxy(self,x1,y1):\n",
        "        self.x = x1\n",
        "        self.y= y1\n",
        "    \n",
        "    #Defining function display yhe value of x and y\n",
        "    def get(self):\n",
        "        return(self.x, self.y)\n",
        "\n",
        "    #Defining function jump\n",
        "    def jump(self, dx , dy):\n",
        "        self.x=self.x+dx\n",
        "        self.y=self.y+dy\n",
        "\n",
        "    #Defining function which shows current position of Kangaroo\n",
        "    def __str__(self):\n",
        "        return(f'I am a kangaroo located at coordinates {self.x,self.y}')"
      ]
    },
    {
      "cell_type": "code",
      "execution_count": null,
      "metadata": {
        "id": "6fa1c46c",
        "colab": {
          "base_uri": "https://localhost:8080/"
        },
        "outputId": "100e1af4-0425-4c12-8c89-963729d026ae"
      },
      "outputs": [
        {
          "output_type": "stream",
          "name": "stdout",
          "text": [
            "I am a kangaroo located at coordinates (0, 0)\n"
          ]
        }
      ],
      "source": [
        "k = Kangaroo(0,0)\n",
        "print(k)"
      ]
    },
    {
      "cell_type": "code",
      "source": [
        "k.put_in_pouch('doll')\n",
        "k.put_in_pouch('firetruck')\n",
        "k.put_in_pouch('kitten')\n",
        "k.pouch_contents()"
      ],
      "metadata": {
        "colab": {
          "base_uri": "https://localhost:8080/"
        },
        "id": "UlhN34OAj1SL",
        "outputId": "5d2b7ed0-c603-4521-b04b-4e755b3da828"
      },
      "execution_count": null,
      "outputs": [
        {
          "output_type": "stream",
          "name": "stdout",
          "text": [
            "['doll', 'firetruck', 'kitten']\n"
          ]
        }
      ]
    },
    {
      "cell_type": "code",
      "execution_count": null,
      "metadata": {
        "id": "6ff69369",
        "outputId": "f502786f-735e-4079-d252-a096cb568020",
        "colab": {
          "base_uri": "https://localhost:8080/"
        }
      },
      "outputs": [
        {
          "output_type": "stream",
          "name": "stdout",
          "text": [
            "I am a kangaroo located at coordinates (3, 0)\n"
          ]
        }
      ],
      "source": [
        "k.jump(1,0)\n",
        "k.jump(1,0)\n",
        "k.jump(1,0)\n",
        "print(k)"
      ]
    },
    {
      "cell_type": "markdown",
      "source": [
        "Question 4\n",
        "Write function collatz() that takes a positive integer x as input and prints the\n",
        "Collatz sequence starting at x. A Collatz sequence is obtained by repeatedly applying\n",
        "this rule to the previous number x in the sequence:\n",
        "x = {\n",
        "𝑥/2 𝑖𝑓 𝑥 𝑖𝑠 𝑒𝑣𝑒𝑛\n",
        "3𝑥 + 1 𝑖𝑓 𝑥 𝑖𝑠 𝑜𝑑𝑑\n",
        "Your function should stop when the sequence gets to number 1. Your\n",
        "implementation must be recursive, without any loops.\n",
        "\n",
        ">>> collatz(1)\n",
        "1\n",
        ">>> collatz(10)\n",
        "10\n",
        "5\n",
        "16\n",
        "8\n",
        "4\n",
        "2\n",
        "1"
      ],
      "metadata": {
        "id": "7K4QFxJPwlHk"
      }
    },
    {
      "cell_type": "code",
      "source": [
        "#Defining function collatz\n",
        "def collatz(number):\n",
        "\n",
        "    if number == 1:\n",
        "      return\n",
        "\n",
        "    elif number % 2 == 0:\n",
        "        print(number // 2)\n",
        "        number = number // 2\n",
        "        collatz(number)\n",
        "\n",
        "    elif number % 2 == 1:\n",
        "        result = 3 * number + 1\n",
        "        print(result)\n",
        "        number = result\n",
        "        collatz(number)"
      ],
      "metadata": {
        "id": "_4ZQwXhc_ApY"
      },
      "execution_count": null,
      "outputs": []
    },
    {
      "cell_type": "code",
      "source": [
        "#Getting proper input from user\n",
        "while(1):\n",
        "  try:\n",
        "    n = int(input(\"Give me a number :\"))\n",
        "    if(n < 0):\n",
        "      print(\"Please enter positive integer number....!!!\")\n",
        "    else:\n",
        "      break\n",
        "  except:\n",
        "    print(\"Please enter positive integer number....!!!\")\n",
        "\n",
        "#Calling collatz function\n",
        "collatz(n)"
      ],
      "metadata": {
        "colab": {
          "base_uri": "https://localhost:8080/"
        },
        "id": "8J2TW95k4t-v",
        "outputId": "d09c33ed-1797-4f5c-a893-127cc84eb07e"
      },
      "execution_count": null,
      "outputs": [
        {
          "output_type": "stream",
          "name": "stdout",
          "text": [
            "Give me a number :a\n",
            "Please enter positive integer number....!!!\n",
            "Give me a number :-4\n",
            "Please enter positive integer number....!!!\n",
            "Give me a number :5\n",
            "16\n",
            "8\n",
            "4\n",
            "2\n",
            "1\n"
          ]
        }
      ]
    },
    {
      "cell_type": "markdown",
      "source": [
        "Question 5\n",
        "Write a recursive method binary() that takes a non-negative\n",
        "integer n and prints the binary representation of integer n.\n",
        ">>> binary(0)\n",
        "0\n",
        ">>> binary(1)\n",
        "1\n",
        ">>> binary(3)\n",
        "11\n",
        ">>> binary(9)\n",
        "1001\n"
      ],
      "metadata": {
        "id": "FdrRNWTPwlJx"
      }
    },
    {
      "cell_type": "code",
      "source": [
        "#Defining function convertToBinary which converts decimal to binary\n",
        "def convertToBinary(n):\n",
        "   if n > 1:\n",
        "       convertToBinary(n//2)\n",
        "   print(n % 2,end = '')"
      ],
      "metadata": {
        "id": "u4IRsalbmKW0"
      },
      "execution_count": null,
      "outputs": []
    },
    {
      "cell_type": "code",
      "source": [
        "from copy import Error\n",
        "from logging import exception\n",
        "\n",
        "#Getting proper value from user\n",
        "while(1):\n",
        "  try:\n",
        "    dec = int(input(\"Enter a positive integer number to convert it in binary :\"))\n",
        "    if(dec < 0):\n",
        "      print(\"Please enter positive integer number....!!!\")\n",
        "    else:\n",
        "      break\n",
        "  except:\n",
        "    print(\"Please enter positive integer number....!!!\")\n",
        "\n",
        "#Calling coonvertToBinary function  \n",
        "convertToBinary(dec)"
      ],
      "metadata": {
        "colab": {
          "base_uri": "https://localhost:8080/"
        },
        "id": "6129eghrmqDd",
        "outputId": "b187763a-a67f-499a-a587-b6c3f528f8dc"
      },
      "execution_count": null,
      "outputs": [
        {
          "output_type": "stream",
          "name": "stdout",
          "text": [
            "Enter a positive integer number to convert it in binary :a\n",
            "Please enter positive integer number....!!!\n",
            "Enter a positive integer number to convert it in binary :-3\n",
            "Please enter positive integer number....!!!\n",
            "Enter a positive integer number to convert it in binary :6\n",
            "110"
          ]
        }
      ]
    },
    {
      "cell_type": "markdown",
      "source": [
        "Question 6\n",
        "Implement a class named HeadingParser that can be used to parse an HTML\n",
        "document, and retrieve and print all the headings in the document. You should\n",
        "implement your class as a subclass of HTMLParser, defined in Standard Library\n",
        "module html.parser. When fed a string containing HTML code, your class should\n",
        "print the headings, one per line and in the order in which they appear in the\n",
        "document. Each heading should be indented as follows: an h1 heading should have indentation 0, and h2 heading should have indentation 1, etc. Test your\n",
        "implementation using w3c.html.\n",
        ">>> infile = open('w3c.html')\n",
        ">>> content = infile.read()\n",
        ">>> infile.close()\n",
        ">>> hp = HeadingParser()\n",
        ">>> hp.feed(content)\n",
        "W3C Mission\n",
        "Principles"
      ],
      "metadata": {
        "id": "Wga09K8ywlLz"
      }
    },
    {
      "cell_type": "code",
      "source": [
        "from html.parser import HTMLParser\n",
        "\n",
        "#Defining class HeadingParser which inherits Parent class HTMLParser\n",
        "class HeadingParser(HTMLParser):\n",
        "  h1 = False\n",
        "  h2 = False\n",
        "  h3 = False\n",
        "  h4 = False\n",
        "  h5 = False\n",
        "  h6 = False\n",
        "\n",
        "  #Defining function which handles start tags\n",
        "  def handle_starttag(self, tag, attrs):\n",
        "      if tag == 'h1':\n",
        "        self.h1 = True\n",
        "      elif tag == 'h2':\n",
        "        self.h2 = True\n",
        "      elif tag == 'h3':\n",
        "        self.h3 = True\n",
        "      elif tag == 'h4':\n",
        "        self.h4 = True\n",
        "      elif tag == 'h5':\n",
        "        self.h5 = True\n",
        "      elif tag == 'h6':\n",
        "        self.h6 = True\n",
        "  \n",
        "  #Defining function which handles data between start and end tag\n",
        "  def handle_data(self, data):\n",
        "      if self.h1:\n",
        "        print(data)\n",
        "      elif self.h2:\n",
        "        print('\\t',data)\n",
        "      elif self.h3:\n",
        "        print('\\t\\t',data)\n",
        "      elif self.h4:\n",
        "        print('\\t\\t\\t',data)\n",
        "      elif self.h5:\n",
        "        print('\\t\\t\\t\\t',data)\n",
        "      elif self.h6:\n",
        "        print('\\t\\t\\t\\t\\t',data)\n",
        "\n",
        "  #Defining function which handles end tags\n",
        "  def handle_endtag(self, tag):\n",
        "      self.h1= False\n",
        "      self.h2= False\n",
        "      self.h3= False\n",
        "      self.h4= False\n",
        "      self.h5= False\n",
        "      self.h6= False"
      ],
      "metadata": {
        "id": "nbrFR8PhtCgN"
      },
      "execution_count": null,
      "outputs": []
    },
    {
      "cell_type": "code",
      "source": [
        "#Opening and getting data of html file\n",
        "infile = open('/content/sample_data/w3c.txt')\n",
        "content = infile.read()\n",
        "infile.close()\n",
        "\n",
        "#Making object of HeadingParser class and calling function\n",
        "hp = HeadingParser()\n",
        "hp.feed(content)"
      ],
      "metadata": {
        "colab": {
          "base_uri": "https://localhost:8080/"
        },
        "id": "5NeXeu250SWY",
        "outputId": "69476e10-1ae9-4edf-ba8f-0d8e2c05a110"
      },
      "execution_count": null,
      "outputs": [
        {
          "output_type": "stream",
          "name": "stdout",
          "text": [
            "W3C Mission\n",
            "\t Principles\n"
          ]
        }
      ]
    },
    {
      "cell_type": "markdown",
      "source": [
        "Question 7\n",
        "Implement recursive function webdir() that takes as input: a URL (as a string) and\n",
        "non-negative integers depth and indent. Your function should visit every web\n",
        "page reachable from the starting URL web page in depth clicks or less, and print\n",
        "each web page's URL. As shown below, indentation, specified by indent, should\n",
        "be used to indicate the depth of a URL.\n",
        ">>>\n",
        "webdir('http://reed.cs.depaul.edu/lperkovic/csc242/test1.html'\n",
        ", 2, 0)\n",
        "http://reed.cs.depaul.edu/lperkovic/csc242/test1.html\n",
        " http://reed.cs.depaul.edu/lperkovic/csc242/test2.html\n",
        " http://reed.cs.depaul.edu/lperkovic/csc242/test4.html\n",
        " http://reed.cs.depaul.edu/lperkovic/csc242/test3.html\n",
        " http://reed.cs.depaul.edu/lperkovic/csc242/test4.html"
      ],
      "metadata": {
        "id": "9JHo6IxTwlNu"
      }
    },
    {
      "cell_type": "code",
      "source": [
        "from urllib.request import urlopen\n",
        "from urllib.parse import urljoin\n",
        "from html.parser import HTMLParser\n",
        "\n",
        "#Defining Collector class which inherits HTMLParser class\n",
        "class Collector(HTMLParser):\n",
        "\n",
        "    def __init__(self, url):\n",
        "        HTMLParser.__init__(self)\n",
        "        self.url = url\n",
        "        self.links = []    \n",
        "        \n",
        "    #Defining function which handles start tags\n",
        "    def handle_starttag(self, tag, attrs):\n",
        "        if tag == 'a':\n",
        "            for attr in attrs:\n",
        "                if attr[0] == 'href':\n",
        "                    # construct absolute URL\n",
        "                    absolute = urljoin(self.url, attr[1])\n",
        "                    if absolute[:4] == 'http': \n",
        "                        self.links.append(absolute)   \n",
        "\n",
        "    #Defining function which handles links in data     \n",
        "    def getLinks(self):\n",
        "        return self.links\n",
        "\n",
        "#Defining function webdir\n",
        "def webdir(url, depth, indent):\n",
        "    \n",
        "    content = urlopen(url).read().decode()\n",
        "    collector = Collector(url)\n",
        "    collector.feed(content)\n",
        "    urllist = collector.getLinks()  \n",
        "    d= depth\n",
        "    i = indent\n",
        "    \n",
        "    print(\"\\t\"*indent+\"{}\".format(url))\n",
        "    for url in urllist:        \n",
        "        if (d>0):\n",
        "            webdir(url,d,i+1)  \n",
        "        else:\n",
        "            return\n",
        "        d = d-1\n",
        "\n",
        "#Calling function webdir for given link but it shows error\n",
        "webdir('http://reed.cs.depaul.edu/lperkovic/csc242/test1.html' , 2, 0)"
      ],
      "metadata": {
        "colab": {
          "base_uri": "https://localhost:8080/",
          "height": 345
        },
        "id": "HLzJM5-ekt0w",
        "outputId": "28ff5fd1-d87f-4f3f-ddf9-613be6ebe02a"
      },
      "execution_count": null,
      "outputs": [
        {
          "output_type": "error",
          "ename": "HTTPError",
          "evalue": "ignored",
          "traceback": [
            "\u001b[0;31m---------------------------------------------------------------------------\u001b[0m",
            "\u001b[0;31mHTTPError\u001b[0m                                 Traceback (most recent call last)",
            "\u001b[0;32m<ipython-input-44-5cbcf3a17141>\u001b[0m in \u001b[0;36m<module>\u001b[0;34m\u001b[0m\n\u001b[1;32m     44\u001b[0m \u001b[0;34m\u001b[0m\u001b[0m\n\u001b[1;32m     45\u001b[0m \u001b[0;31m#Calling function webdir for given link but it shows error\u001b[0m\u001b[0;34m\u001b[0m\u001b[0;34m\u001b[0m\u001b[0;34m\u001b[0m\u001b[0m\n\u001b[0;32m---> 46\u001b[0;31m \u001b[0mwebdir\u001b[0m\u001b[0;34m(\u001b[0m\u001b[0;34m'http://reed.cs.depaul.edu/lperkovic/csc242/test1.html'\u001b[0m \u001b[0;34m,\u001b[0m \u001b[0;36m2\u001b[0m\u001b[0;34m,\u001b[0m \u001b[0;36m0\u001b[0m\u001b[0;34m)\u001b[0m\u001b[0;34m\u001b[0m\u001b[0;34m\u001b[0m\u001b[0m\n\u001b[0m",
            "\u001b[0;32m<ipython-input-44-5cbcf3a17141>\u001b[0m in \u001b[0;36mwebdir\u001b[0;34m(url, depth, indent)\u001b[0m\n\u001b[1;32m     28\u001b[0m \u001b[0;32mdef\u001b[0m \u001b[0mwebdir\u001b[0m\u001b[0;34m(\u001b[0m\u001b[0murl\u001b[0m\u001b[0;34m,\u001b[0m \u001b[0mdepth\u001b[0m\u001b[0;34m,\u001b[0m \u001b[0mindent\u001b[0m\u001b[0;34m)\u001b[0m\u001b[0;34m:\u001b[0m\u001b[0;34m\u001b[0m\u001b[0;34m\u001b[0m\u001b[0m\n\u001b[1;32m     29\u001b[0m \u001b[0;34m\u001b[0m\u001b[0m\n\u001b[0;32m---> 30\u001b[0;31m     \u001b[0mcontent\u001b[0m \u001b[0;34m=\u001b[0m \u001b[0murlopen\u001b[0m\u001b[0;34m(\u001b[0m\u001b[0murl\u001b[0m\u001b[0;34m)\u001b[0m\u001b[0;34m.\u001b[0m\u001b[0mread\u001b[0m\u001b[0;34m(\u001b[0m\u001b[0;34m)\u001b[0m\u001b[0;34m.\u001b[0m\u001b[0mdecode\u001b[0m\u001b[0;34m(\u001b[0m\u001b[0;34m)\u001b[0m\u001b[0;34m\u001b[0m\u001b[0;34m\u001b[0m\u001b[0m\n\u001b[0m\u001b[1;32m     31\u001b[0m     \u001b[0mcollector\u001b[0m \u001b[0;34m=\u001b[0m \u001b[0mCollector\u001b[0m\u001b[0;34m(\u001b[0m\u001b[0murl\u001b[0m\u001b[0;34m)\u001b[0m\u001b[0;34m\u001b[0m\u001b[0;34m\u001b[0m\u001b[0m\n\u001b[1;32m     32\u001b[0m     \u001b[0mcollector\u001b[0m\u001b[0;34m.\u001b[0m\u001b[0mfeed\u001b[0m\u001b[0;34m(\u001b[0m\u001b[0mcontent\u001b[0m\u001b[0;34m)\u001b[0m\u001b[0;34m\u001b[0m\u001b[0;34m\u001b[0m\u001b[0m\n",
            "\u001b[0;32m/usr/lib/python3.7/urllib/request.py\u001b[0m in \u001b[0;36murlopen\u001b[0;34m(url, data, timeout, cafile, capath, cadefault, context)\u001b[0m\n\u001b[1;32m    220\u001b[0m     \u001b[0;32melse\u001b[0m\u001b[0;34m:\u001b[0m\u001b[0;34m\u001b[0m\u001b[0;34m\u001b[0m\u001b[0m\n\u001b[1;32m    221\u001b[0m         \u001b[0mopener\u001b[0m \u001b[0;34m=\u001b[0m \u001b[0m_opener\u001b[0m\u001b[0;34m\u001b[0m\u001b[0;34m\u001b[0m\u001b[0m\n\u001b[0;32m--> 222\u001b[0;31m     \u001b[0;32mreturn\u001b[0m \u001b[0mopener\u001b[0m\u001b[0;34m.\u001b[0m\u001b[0mopen\u001b[0m\u001b[0;34m(\u001b[0m\u001b[0murl\u001b[0m\u001b[0;34m,\u001b[0m \u001b[0mdata\u001b[0m\u001b[0;34m,\u001b[0m \u001b[0mtimeout\u001b[0m\u001b[0;34m)\u001b[0m\u001b[0;34m\u001b[0m\u001b[0;34m\u001b[0m\u001b[0m\n\u001b[0m\u001b[1;32m    223\u001b[0m \u001b[0;34m\u001b[0m\u001b[0m\n\u001b[1;32m    224\u001b[0m \u001b[0;32mdef\u001b[0m \u001b[0minstall_opener\u001b[0m\u001b[0;34m(\u001b[0m\u001b[0mopener\u001b[0m\u001b[0;34m)\u001b[0m\u001b[0;34m:\u001b[0m\u001b[0;34m\u001b[0m\u001b[0;34m\u001b[0m\u001b[0m\n",
            "\u001b[0;32m/usr/lib/python3.7/urllib/request.py\u001b[0m in \u001b[0;36mopen\u001b[0;34m(self, fullurl, data, timeout)\u001b[0m\n\u001b[1;32m    529\u001b[0m         \u001b[0;32mfor\u001b[0m \u001b[0mprocessor\u001b[0m \u001b[0;32min\u001b[0m \u001b[0mself\u001b[0m\u001b[0;34m.\u001b[0m\u001b[0mprocess_response\u001b[0m\u001b[0;34m.\u001b[0m\u001b[0mget\u001b[0m\u001b[0;34m(\u001b[0m\u001b[0mprotocol\u001b[0m\u001b[0;34m,\u001b[0m \u001b[0;34m[\u001b[0m\u001b[0;34m]\u001b[0m\u001b[0;34m)\u001b[0m\u001b[0;34m:\u001b[0m\u001b[0;34m\u001b[0m\u001b[0;34m\u001b[0m\u001b[0m\n\u001b[1;32m    530\u001b[0m             \u001b[0mmeth\u001b[0m \u001b[0;34m=\u001b[0m \u001b[0mgetattr\u001b[0m\u001b[0;34m(\u001b[0m\u001b[0mprocessor\u001b[0m\u001b[0;34m,\u001b[0m \u001b[0mmeth_name\u001b[0m\u001b[0;34m)\u001b[0m\u001b[0;34m\u001b[0m\u001b[0;34m\u001b[0m\u001b[0m\n\u001b[0;32m--> 531\u001b[0;31m             \u001b[0mresponse\u001b[0m \u001b[0;34m=\u001b[0m \u001b[0mmeth\u001b[0m\u001b[0;34m(\u001b[0m\u001b[0mreq\u001b[0m\u001b[0;34m,\u001b[0m \u001b[0mresponse\u001b[0m\u001b[0;34m)\u001b[0m\u001b[0;34m\u001b[0m\u001b[0;34m\u001b[0m\u001b[0m\n\u001b[0m\u001b[1;32m    532\u001b[0m \u001b[0;34m\u001b[0m\u001b[0m\n\u001b[1;32m    533\u001b[0m         \u001b[0;32mreturn\u001b[0m \u001b[0mresponse\u001b[0m\u001b[0;34m\u001b[0m\u001b[0;34m\u001b[0m\u001b[0m\n",
            "\u001b[0;32m/usr/lib/python3.7/urllib/request.py\u001b[0m in \u001b[0;36mhttp_response\u001b[0;34m(self, request, response)\u001b[0m\n\u001b[1;32m    639\u001b[0m         \u001b[0;32mif\u001b[0m \u001b[0;32mnot\u001b[0m \u001b[0;34m(\u001b[0m\u001b[0;36m200\u001b[0m \u001b[0;34m<=\u001b[0m \u001b[0mcode\u001b[0m \u001b[0;34m<\u001b[0m \u001b[0;36m300\u001b[0m\u001b[0;34m)\u001b[0m\u001b[0;34m:\u001b[0m\u001b[0;34m\u001b[0m\u001b[0;34m\u001b[0m\u001b[0m\n\u001b[1;32m    640\u001b[0m             response = self.parent.error(\n\u001b[0;32m--> 641\u001b[0;31m                 'http', request, response, code, msg, hdrs)\n\u001b[0m\u001b[1;32m    642\u001b[0m \u001b[0;34m\u001b[0m\u001b[0m\n\u001b[1;32m    643\u001b[0m         \u001b[0;32mreturn\u001b[0m \u001b[0mresponse\u001b[0m\u001b[0;34m\u001b[0m\u001b[0;34m\u001b[0m\u001b[0m\n",
            "\u001b[0;32m/usr/lib/python3.7/urllib/request.py\u001b[0m in \u001b[0;36merror\u001b[0;34m(self, proto, *args)\u001b[0m\n\u001b[1;32m    567\u001b[0m         \u001b[0;32mif\u001b[0m \u001b[0mhttp_err\u001b[0m\u001b[0;34m:\u001b[0m\u001b[0;34m\u001b[0m\u001b[0;34m\u001b[0m\u001b[0m\n\u001b[1;32m    568\u001b[0m             \u001b[0margs\u001b[0m \u001b[0;34m=\u001b[0m \u001b[0;34m(\u001b[0m\u001b[0mdict\u001b[0m\u001b[0;34m,\u001b[0m \u001b[0;34m'default'\u001b[0m\u001b[0;34m,\u001b[0m \u001b[0;34m'http_error_default'\u001b[0m\u001b[0;34m)\u001b[0m \u001b[0;34m+\u001b[0m \u001b[0morig_args\u001b[0m\u001b[0;34m\u001b[0m\u001b[0;34m\u001b[0m\u001b[0m\n\u001b[0;32m--> 569\u001b[0;31m             \u001b[0;32mreturn\u001b[0m \u001b[0mself\u001b[0m\u001b[0;34m.\u001b[0m\u001b[0m_call_chain\u001b[0m\u001b[0;34m(\u001b[0m\u001b[0;34m*\u001b[0m\u001b[0margs\u001b[0m\u001b[0;34m)\u001b[0m\u001b[0;34m\u001b[0m\u001b[0;34m\u001b[0m\u001b[0m\n\u001b[0m\u001b[1;32m    570\u001b[0m \u001b[0;34m\u001b[0m\u001b[0m\n\u001b[1;32m    571\u001b[0m \u001b[0;31m# XXX probably also want an abstract factory that knows when it makes\u001b[0m\u001b[0;34m\u001b[0m\u001b[0;34m\u001b[0m\u001b[0;34m\u001b[0m\u001b[0m\n",
            "\u001b[0;32m/usr/lib/python3.7/urllib/request.py\u001b[0m in \u001b[0;36m_call_chain\u001b[0;34m(self, chain, kind, meth_name, *args)\u001b[0m\n\u001b[1;32m    501\u001b[0m         \u001b[0;32mfor\u001b[0m \u001b[0mhandler\u001b[0m \u001b[0;32min\u001b[0m \u001b[0mhandlers\u001b[0m\u001b[0;34m:\u001b[0m\u001b[0;34m\u001b[0m\u001b[0;34m\u001b[0m\u001b[0m\n\u001b[1;32m    502\u001b[0m             \u001b[0mfunc\u001b[0m \u001b[0;34m=\u001b[0m \u001b[0mgetattr\u001b[0m\u001b[0;34m(\u001b[0m\u001b[0mhandler\u001b[0m\u001b[0;34m,\u001b[0m \u001b[0mmeth_name\u001b[0m\u001b[0;34m)\u001b[0m\u001b[0;34m\u001b[0m\u001b[0;34m\u001b[0m\u001b[0m\n\u001b[0;32m--> 503\u001b[0;31m             \u001b[0mresult\u001b[0m \u001b[0;34m=\u001b[0m \u001b[0mfunc\u001b[0m\u001b[0;34m(\u001b[0m\u001b[0;34m*\u001b[0m\u001b[0margs\u001b[0m\u001b[0;34m)\u001b[0m\u001b[0;34m\u001b[0m\u001b[0;34m\u001b[0m\u001b[0m\n\u001b[0m\u001b[1;32m    504\u001b[0m             \u001b[0;32mif\u001b[0m \u001b[0mresult\u001b[0m \u001b[0;32mis\u001b[0m \u001b[0;32mnot\u001b[0m \u001b[0;32mNone\u001b[0m\u001b[0;34m:\u001b[0m\u001b[0;34m\u001b[0m\u001b[0;34m\u001b[0m\u001b[0m\n\u001b[1;32m    505\u001b[0m                 \u001b[0;32mreturn\u001b[0m \u001b[0mresult\u001b[0m\u001b[0;34m\u001b[0m\u001b[0;34m\u001b[0m\u001b[0m\n",
            "\u001b[0;32m/usr/lib/python3.7/urllib/request.py\u001b[0m in \u001b[0;36mhttp_error_default\u001b[0;34m(self, req, fp, code, msg, hdrs)\u001b[0m\n\u001b[1;32m    647\u001b[0m \u001b[0;32mclass\u001b[0m \u001b[0mHTTPDefaultErrorHandler\u001b[0m\u001b[0;34m(\u001b[0m\u001b[0mBaseHandler\u001b[0m\u001b[0;34m)\u001b[0m\u001b[0;34m:\u001b[0m\u001b[0;34m\u001b[0m\u001b[0;34m\u001b[0m\u001b[0m\n\u001b[1;32m    648\u001b[0m     \u001b[0;32mdef\u001b[0m \u001b[0mhttp_error_default\u001b[0m\u001b[0;34m(\u001b[0m\u001b[0mself\u001b[0m\u001b[0;34m,\u001b[0m \u001b[0mreq\u001b[0m\u001b[0;34m,\u001b[0m \u001b[0mfp\u001b[0m\u001b[0;34m,\u001b[0m \u001b[0mcode\u001b[0m\u001b[0;34m,\u001b[0m \u001b[0mmsg\u001b[0m\u001b[0;34m,\u001b[0m \u001b[0mhdrs\u001b[0m\u001b[0;34m)\u001b[0m\u001b[0;34m:\u001b[0m\u001b[0;34m\u001b[0m\u001b[0;34m\u001b[0m\u001b[0m\n\u001b[0;32m--> 649\u001b[0;31m         \u001b[0;32mraise\u001b[0m \u001b[0mHTTPError\u001b[0m\u001b[0;34m(\u001b[0m\u001b[0mreq\u001b[0m\u001b[0;34m.\u001b[0m\u001b[0mfull_url\u001b[0m\u001b[0;34m,\u001b[0m \u001b[0mcode\u001b[0m\u001b[0;34m,\u001b[0m \u001b[0mmsg\u001b[0m\u001b[0;34m,\u001b[0m \u001b[0mhdrs\u001b[0m\u001b[0;34m,\u001b[0m \u001b[0mfp\u001b[0m\u001b[0;34m)\u001b[0m\u001b[0;34m\u001b[0m\u001b[0;34m\u001b[0m\u001b[0m\n\u001b[0m\u001b[1;32m    650\u001b[0m \u001b[0;34m\u001b[0m\u001b[0m\n\u001b[1;32m    651\u001b[0m \u001b[0;32mclass\u001b[0m \u001b[0mHTTPRedirectHandler\u001b[0m\u001b[0;34m(\u001b[0m\u001b[0mBaseHandler\u001b[0m\u001b[0;34m)\u001b[0m\u001b[0;34m:\u001b[0m\u001b[0;34m\u001b[0m\u001b[0;34m\u001b[0m\u001b[0m\n",
            "\u001b[0;31mHTTPError\u001b[0m: HTTP Error 404: "
          ]
        }
      ]
    },
    {
      "cell_type": "code",
      "source": [
        "#Calling function webdir for applicable link\n",
        "webdir('http://reed.cs.depaul.edu/lperkovic/test1.html' , 2, 0)"
      ],
      "metadata": {
        "colab": {
          "base_uri": "https://localhost:8080/"
        },
        "id": "PdLoDbXpgmNE",
        "outputId": "a120aeb2-0752-419c-b041-1089469d034c"
      },
      "execution_count": null,
      "outputs": [
        {
          "output_type": "stream",
          "name": "stdout",
          "text": [
            "http://reed.cs.depaul.edu/lperkovic/test1.html\n",
            "\thttp://reed.cs.depaul.edu/lperkovic/test2.html\n",
            "\t\thttp://reed.cs.depaul.edu/lperkovic/test4.html\n",
            "\thttp://reed.cs.depaul.edu/lperkovic/test3.html\n",
            "\t\thttp://reed.cs.depaul.edu/lperkovic/test4.html\n"
          ]
        }
      ]
    },
    {
      "cell_type": "markdown",
      "source": [
        "Question 8\n",
        "Write SQL queries on the below database table that return:\n",
        "a) All the temperature data.\n",
        "b) All the cities, but without repetition.\n",
        "c) All the records for India.\n",
        "d) All the Fall records.\n",
        "e) The city, country, and season for which the average rainfall is between 200\n",
        "and 400 millimeters.\n",
        "f) The city and country for which the average Fall temperature is above 20\n",
        "degrees, in increasing temperature order.\n",
        "g) The total annual rainfall for Cairo.\n",
        "h) The total rainfall for each season.\n",
        "City Country Season Temperature\n",
        "(C)\n",
        "Rainfall\n",
        "(mm)\n",
        "Mumbai India Winter 24.8 5.9\n",
        "Mumbai India Spring 28.4 16.2\n",
        "Mumbai India Summer 27.9 1549.4\n",
        "Mumbai India Fall 27.6 346.0\n",
        "London United Kingdom Winter 4.2 207.7\n",
        "London United Kingdom Spring 8.3 169.6\n",
        "London United Kingdom Summer 15.7 157.0\n",
        "London United Kingdom Fall 10.4 218.5\n",
        "Cairo Egypt Winter 13.6 16.5\n",
        "Cairo Egypt Spring 20.7 6.5\n",
        "Cairo Egypt Summer 27.7 0.1\n",
        "Cairo Egypt Fall 22.2 4.5 "
      ],
      "metadata": {
        "id": "SXXZUxBVxUO4"
      }
    },
    {
      "cell_type": "code",
      "source": [
        "import sqlite3\n",
        "content = sqlite3.connect('weather_city_data.db')\n",
        "cursor = content.cursor()\n",
        "\n",
        "#Creating table and inserting data into it\n",
        "cursor.execute(\"CREATE TABLE Weatdata (City text, Country text, Season text, Temp_in_c double, rainfall_in_mm double)\")\n",
        "cursor.execute(\"INSERT INTO Weatdata VALUES ('Mumbai','India','Winter',24.8,5.9),('Mumbai','India','Spring',28.4,16.2),('Mumbai','India','Summer',27.9,1549.4),('Mumbai','India ','Fall',27.6,346),('London','United Kingdom','Winter',4.2,207.7),('London','United Kingdom','Spring',8.3,169.6),('London','United Kingdom','Summer',15.7,157),('London','United Kingdom','Fall',10.4,218.5),('Cairo','Egypt','Winter',13.6,16.5),('Cairo','Egypt','Spring',20.7,6.5),('Cairo','Egypt','Summer',27.7,0.1),('Cairo','Egypt','Fall',22.2,4.5)\")\n",
        "\n",
        "content.commit()"
      ],
      "metadata": {
        "id": "ulVuv8c5lPIL"
      },
      "execution_count": null,
      "outputs": []
    },
    {
      "cell_type": "code",
      "execution_count": null,
      "metadata": {
        "id": "0db37c2d"
      },
      "outputs": [],
      "source": [
        "import sqlite3\n",
        "connection = sqlite3.connect('databaseName.sqlite')"
      ]
    },
    {
      "cell_type": "code",
      "execution_count": null,
      "metadata": {
        "id": "e53ab389",
        "outputId": "c5330e07-4de7-4b4d-ebb3-39cec468fb53",
        "colab": {
          "base_uri": "https://localhost:8080/"
        }
      },
      "outputs": [
        {
          "output_type": "stream",
          "name": "stdout",
          "text": [
            "[('Mumbai', 'India', 'Winter', 24.8, 5.9), ('Mumbai', 'India', 'Spring', 28.4, 16.2), ('Mumbai', 'India', 'Summer', 27.9, 1549.4), ('Mumbai', 'India ', 'Fall', 27.6, 346.0), ('London', 'United Kingdom', 'Winter', 4.2, 207.7), ('London', 'United Kingdom', 'Spring', 8.3, 169.6), ('London', 'United Kingdom', 'Summer', 15.7, 157.0), ('London', 'United Kingdom', 'Fall', 10.4, 218.5), ('Cairo', 'Egypt', 'Winter', 13.6, 16.5), ('Cairo', 'Egypt', 'Spring', 20.7, 6.5), ('Cairo', 'Egypt', 'Summer', 27.7, 0.1), ('Cairo', 'Egypt', 'Fall', 22.2, 4.5)]\n"
          ]
        }
      ],
      "source": [
        "#All the weather data.\n",
        "cursor.execute('SELECT * FROM Weatdata')\n",
        "print(cursor.fetchall())"
      ]
    },
    {
      "cell_type": "code",
      "execution_count": null,
      "metadata": {
        "id": "d37270ee",
        "outputId": "8aad936a-f089-439d-bb4b-601a8f3fa76a",
        "colab": {
          "base_uri": "https://localhost:8080/"
        }
      },
      "outputs": [
        {
          "output_type": "stream",
          "name": "stdout",
          "text": [
            "[(24.8,), (28.4,), (27.9,), (27.6,), (4.2,), (8.3,), (15.7,), (10.4,), (13.6,), (20.7,), (27.7,), (22.2,)]\n"
          ]
        }
      ],
      "source": [
        "#All the temperature data.\n",
        "cursor.execute('SELECT Temp_in_c FROM Weatdata')\n",
        "print(cursor.fetchall())"
      ]
    },
    {
      "cell_type": "code",
      "execution_count": null,
      "metadata": {
        "id": "79147573",
        "outputId": "15bf58fe-9d86-4a82-bed8-d7e080cc6995",
        "colab": {
          "base_uri": "https://localhost:8080/"
        }
      },
      "outputs": [
        {
          "output_type": "stream",
          "name": "stdout",
          "text": [
            "[('Mumbai',), ('London',), ('Cairo',)]\n"
          ]
        }
      ],
      "source": [
        "#All the cities, but without repetition.\n",
        "cursor.execute('SELECT DISTINCT City FROM Weatdata ')\n",
        "print(cursor.fetchall())"
      ]
    },
    {
      "cell_type": "code",
      "execution_count": null,
      "metadata": {
        "id": "2ddc922a",
        "outputId": "3da9a8b5-ffa6-40f1-f2ea-ab5335c9168f",
        "colab": {
          "base_uri": "https://localhost:8080/"
        }
      },
      "outputs": [
        {
          "output_type": "stream",
          "name": "stdout",
          "text": [
            "[('Mumbai', 'India', 'Winter', 24.8, 5.9), ('Mumbai', 'India', 'Spring', 28.4, 16.2), ('Mumbai', 'India', 'Summer', 27.9, 1549.4)]\n"
          ]
        }
      ],
      "source": [
        "#All the records for India.\n",
        "cursor.execute('SELECT * FROM Weatdata WHERE Country=\"India\"')\n",
        "print(cursor.fetchall())"
      ]
    },
    {
      "cell_type": "code",
      "execution_count": null,
      "metadata": {
        "id": "f22d1408",
        "outputId": "ab7b8df0-7a34-4af5-ad49-4105e837dad5",
        "colab": {
          "base_uri": "https://localhost:8080/"
        }
      },
      "outputs": [
        {
          "output_type": "stream",
          "name": "stdout",
          "text": [
            "[('Mumbai', 'India ', 'Fall', 27.6, 346.0), ('London', 'United Kingdom', 'Fall', 10.4, 218.5), ('Cairo', 'Egypt', 'Fall', 22.2, 4.5)]\n"
          ]
        }
      ],
      "source": [
        "#All the Fall records\n",
        "cursor.execute('SELECT * FROM Weatdata WHERE Season=\"Fall\"')\n",
        "print(cursor.fetchall())"
      ]
    },
    {
      "cell_type": "code",
      "execution_count": null,
      "metadata": {
        "id": "05440f7c",
        "outputId": "c76d1cb2-daea-4a9d-afb4-8220a0e3e5b8",
        "colab": {
          "base_uri": "https://localhost:8080/"
        }
      },
      "outputs": [
        {
          "output_type": "stream",
          "name": "stdout",
          "text": [
            "[('Mumbai', 'India ', 'Fall'), ('London', 'United Kingdom', 'Winter'), ('London', 'United Kingdom', 'Fall')]\n"
          ]
        }
      ],
      "source": [
        "#The city, country, and season for which the average rainfall is between 200 and 400 millimeters.\n",
        "cursor.execute('SELECT City,Country,Season FROM Weatdata WHERE \"rainfall_in_mm\" BETWEEN 200 AND 400')\n",
        "print(cursor.fetchall())"
      ]
    },
    {
      "cell_type": "code",
      "execution_count": null,
      "metadata": {
        "id": "badd6fca",
        "outputId": "971fa45a-642f-4edc-af11-8d845f845d2d",
        "colab": {
          "base_uri": "https://localhost:8080/"
        }
      },
      "outputs": [
        {
          "output_type": "stream",
          "name": "stdout",
          "text": [
            "[('Cairo', 'Egypt'), ('Mumbai', 'India ')]\n"
          ]
        }
      ],
      "source": [
        "#The city and country for which the average Fall temperature is above 20 degrees, in increasing temperature order.\n",
        "\n",
        "cursor.execute('SELECT City,Country FROM Weatdata WHERE Season=\"Fall\" AND Temp_in_c > 20 ORDER BY Temp_in_c ')\n",
        "print(cursor.fetchall())"
      ]
    },
    {
      "cell_type": "code",
      "execution_count": null,
      "metadata": {
        "id": "bd3fc399",
        "outputId": "36397fe7-98f4-4bb6-e6d2-57289ee517e2",
        "colab": {
          "base_uri": "https://localhost:8080/"
        }
      },
      "outputs": [
        {
          "output_type": "stream",
          "name": "stdout",
          "text": [
            "[(27.6,)]\n"
          ]
        }
      ],
      "source": [
        "#The total annual rainfall for Cairo.\n",
        "cursor.execute('SELECT SUM(rainfall_in_mm) FROM Weatdata WHERE City=\"Cairo\"')\n",
        "print(cursor.fetchall())"
      ]
    },
    {
      "cell_type": "code",
      "execution_count": null,
      "metadata": {
        "id": "a6abcaf4",
        "outputId": "7c75c3f6-d189-47fd-e373-cef560e6fb16",
        "colab": {
          "base_uri": "https://localhost:8080/"
        }
      },
      "outputs": [
        {
          "output_type": "stream",
          "name": "stdout",
          "text": [
            "[('Fall', 569.0), ('Spring', 192.29999999999998), ('Summer', 1706.5), ('Winter', 230.1)]\n"
          ]
        }
      ],
      "source": [
        "#The total rainfall for each season.\n",
        "cursor.execute('SELECT Season,SUM(rainfall_in_mm) FROM Weatdata GROUP BY Season')\n",
        "print(cursor.fetchall())"
      ]
    },
    {
      "cell_type": "markdown",
      "source": [
        "Question 9\n",
        ". Suppose list words is defined as follows:\n",
        ">>> words = ['The', 'quick', 'brown', 'fox', 'jumps', 'over',\n",
        "'the', 'lazy', 'dog']\n",
        "Write list comprehension expressions that use list words and generate the following\n",
        "lists:\n",
        "a) ['THE', 'QUICK', 'BROWN', 'FOX', 'JUMPS', 'OVER', 'THE',\n",
        "'LAZY', 'DOG']\n",
        "b) ['the', 'quick', 'brown', 'fox', 'jumps', 'over', 'the',\n",
        "'lazy', 'dog']\n",
        "c) [3, 5, 5, 3, 5, 4, 3, 4, 3] (the list of lengths of words in list\n",
        "words).\n",
        "d) [['THE', 'the', 3], ['QUICK', 'quick', 5], ['BROWN',\n",
        "'brown', 5], ['FOX', 'fox', 3], ['JUMPS', 'jumps', 5],\n",
        "['OVER', 'over', 4], ['THE', 'the', 3], ['LAZY', 'lazy',\n",
        "4], ['DOG', 'dog', 3]] (the list containing a list for every word of list\n",
        "words, where each list contains the word in uppercase and lowercase and the\n",
        "length of the word.)\n",
        "e) ['The', 'quick', 'brown', 'fox', 'jumps', 'over', 'the',\n",
        "'lazy', 'dog'] (the list of words in list words containing 4 or more\n",
        "characters.)"
      ],
      "metadata": {
        "id": "GIJcC2b9xUDk"
      }
    },
    {
      "cell_type": "code",
      "execution_count": null,
      "metadata": {
        "id": "01ff1ebc"
      },
      "outputs": [],
      "source": [
        "# ['THE', 'QUICK', 'BROWN', 'FOX', 'JUMPS', 'OVER', 'THE', 'LAZY', 'DOG']\n",
        "words = ['The', 'quick', 'brown', 'fox', 'jumps', 'over', 'the', 'lazy', 'dog']"
      ]
    },
    {
      "cell_type": "code",
      "execution_count": null,
      "metadata": {
        "id": "a01daf77",
        "outputId": "c10a3e81-678b-4939-f3b3-b06c65a0b0c5",
        "colab": {
          "base_uri": "https://localhost:8080/"
        }
      },
      "outputs": [
        {
          "output_type": "stream",
          "name": "stdout",
          "text": [
            "['THE', 'QUICK', 'BROWN', 'FOX', 'JUMPS', 'OVER', 'THE', 'LAZY', 'DOG']\n"
          ]
        }
      ],
      "source": [
        "#Converting all data into upper case\n",
        "wordsu = [element.upper() for element in words]\n",
        "print(wordsu)"
      ]
    },
    {
      "cell_type": "code",
      "execution_count": null,
      "metadata": {
        "id": "21773d59",
        "outputId": "c77b0d67-8000-4c34-c5ac-8fd22bf1501f",
        "colab": {
          "base_uri": "https://localhost:8080/"
        }
      },
      "outputs": [
        {
          "output_type": "stream",
          "name": "stdout",
          "text": [
            "['the', 'quick', 'brown', 'fox', 'jumps', 'over', 'the', 'lazy', 'dog']\n"
          ]
        }
      ],
      "source": [
        "# ['the', 'quick', 'brown', 'fox', 'jumps', 'over', 'the', 'lazy', 'dog']\n",
        "\n",
        "#Converting all data into lower case\n",
        "wordsl = [element.lower() for element in words]\n",
        "print(wordsl)"
      ]
    },
    {
      "cell_type": "code",
      "execution_count": null,
      "metadata": {
        "id": "f34f4fba",
        "outputId": "fb5a02da-16ab-447f-c1aa-2498d328a642",
        "colab": {
          "base_uri": "https://localhost:8080/"
        }
      },
      "outputs": [
        {
          "output_type": "stream",
          "name": "stdout",
          "text": [
            "[3, 5, 5, 3, 5, 4, 3, 4, 3]\n"
          ]
        }
      ],
      "source": [
        "# [3, 5, 5, 3, 5, 4, 3, 4, 3] (the list of lengths of words in list words).\n",
        "wordslen = [len(word) for word in words]\n",
        "print(wordslen)"
      ]
    },
    {
      "cell_type": "code",
      "execution_count": null,
      "metadata": {
        "id": "5ea95fdf",
        "outputId": "61532615-e38a-4fbb-c981-a94419bfa64a",
        "colab": {
          "base_uri": "https://localhost:8080/"
        }
      },
      "outputs": [
        {
          "output_type": "stream",
          "name": "stdout",
          "text": [
            "[['THE', 'the', 3], ['QUICK', 'quick', 5], ['BROWN', 'brown', 5], ['FOX', 'fox', 3], ['JUMPS', 'jumps', 5], ['OVER', 'over', 4], ['THE', 'the', 3], ['LAZY', 'lazy', 4], ['DOG', 'dog', 3]]\n"
          ]
        }
      ],
      "source": [
        "# [['THE', 'the', 3], ['QUICK', 'quick', 5], ['BROWN', 'brown', 5], ['FOX', 'fox', 3], ['JUMPS', 'jumps', 5], ['OVER', 'over', 4], ['THE', 'the', 3], ['LAZY', 'lazy', 4], ['DOG', 'dog', 3]] (the list containing a list for every word of list words, where each list contains the word in uppercase and lowercase and the length of the word.)\n",
        "newwords = [[word.upper(),word.lower(),len(word)] for word in words]\n",
        "print(newwords)"
      ]
    },
    {
      "cell_type": "code",
      "execution_count": null,
      "metadata": {
        "id": "fdb0f883",
        "outputId": "3badd410-18a7-4c3a-a8b8-b0e6539fdf3a",
        "colab": {
          "base_uri": "https://localhost:8080/"
        }
      },
      "outputs": [
        {
          "output_type": "stream",
          "name": "stdout",
          "text": [
            "['quick', 'brown', 'jumps', 'over', 'lazy']\n"
          ]
        }
      ],
      "source": [
        "# ['The', 'quick', 'brown', 'fox', 'jumps', 'over', 'the', 'lazy', 'dog'] (the list of words in list words containing 4 or more characters.)\n",
        "twords=[word for word in words if len(word)>3]\n",
        "print(twords)\n"
      ]
    }
  ]
}